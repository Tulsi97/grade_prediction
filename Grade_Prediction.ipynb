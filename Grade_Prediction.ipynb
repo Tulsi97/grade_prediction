{
 "cells": [
  {
   "cell_type": "code",
   "execution_count": 1,
   "metadata": {},
   "outputs": [],
   "source": [
    "import pandas as pd\n",
    "import numpy as np\n",
    "import matplotlib.pyplot as plt\n",
    "%matplotlib inline"
   ]
  },
  {
   "cell_type": "code",
   "execution_count": 2,
   "metadata": {},
   "outputs": [],
   "source": [
    "train = pd.read_csv(r'F:\\Desktop\\ds\\moody_training_data.csv')\n",
    "test = pd.read_csv(r'F:\\Desktop\\ds\\moody_testing_data.csv')"
   ]
  },
  {
   "cell_type": "code",
   "execution_count": 3,
   "metadata": {},
   "outputs": [
    {
     "data": {
      "text/html": [
       "<div>\n",
       "<style scoped>\n",
       "    .dataframe tbody tr th:only-of-type {\n",
       "        vertical-align: middle;\n",
       "    }\n",
       "\n",
       "    .dataframe tbody tr th {\n",
       "        vertical-align: top;\n",
       "    }\n",
       "\n",
       "    .dataframe thead th {\n",
       "        text-align: right;\n",
       "    }\n",
       "</style>\n",
       "<table border=\"1\" class=\"dataframe\">\n",
       "  <thead>\n",
       "    <tr style=\"text-align: right;\">\n",
       "      <th></th>\n",
       "      <th>STUDENTID</th>\n",
       "      <th>SCORE</th>\n",
       "      <th>GRADE</th>\n",
       "      <th>ASKSQUESTIONS</th>\n",
       "      <th>TEXTINGINCLASS</th>\n",
       "      <th>LATEINCLASS</th>\n",
       "    </tr>\n",
       "  </thead>\n",
       "  <tbody>\n",
       "    <tr>\n",
       "      <th>0</th>\n",
       "      <td>65446</td>\n",
       "      <td>23.67</td>\n",
       "      <td>D</td>\n",
       "      <td>never</td>\n",
       "      <td>always</td>\n",
       "      <td>never</td>\n",
       "    </tr>\n",
       "    <tr>\n",
       "      <th>1</th>\n",
       "      <td>79686</td>\n",
       "      <td>8.41</td>\n",
       "      <td>F</td>\n",
       "      <td>never</td>\n",
       "      <td>never</td>\n",
       "      <td>rarely</td>\n",
       "    </tr>\n",
       "    <tr>\n",
       "      <th>2</th>\n",
       "      <td>56400</td>\n",
       "      <td>69.76</td>\n",
       "      <td>C</td>\n",
       "      <td>never</td>\n",
       "      <td>always</td>\n",
       "      <td>rarely</td>\n",
       "    </tr>\n",
       "    <tr>\n",
       "      <th>3</th>\n",
       "      <td>16792</td>\n",
       "      <td>95.51</td>\n",
       "      <td>A</td>\n",
       "      <td>never</td>\n",
       "      <td>always</td>\n",
       "      <td>always</td>\n",
       "    </tr>\n",
       "    <tr>\n",
       "      <th>4</th>\n",
       "      <td>92195</td>\n",
       "      <td>67.12</td>\n",
       "      <td>B</td>\n",
       "      <td>frequently</td>\n",
       "      <td>sometimes</td>\n",
       "      <td>never</td>\n",
       "    </tr>\n",
       "  </tbody>\n",
       "</table>\n",
       "</div>"
      ],
      "text/plain": [
       "   STUDENTID  SCORE GRADE ASKSQUESTIONS TEXTINGINCLASS LATEINCLASS\n",
       "0      65446  23.67     D         never         always       never\n",
       "1      79686   8.41     F         never          never      rarely\n",
       "2      56400  69.76     C         never         always      rarely\n",
       "3      16792  95.51     A         never         always      always\n",
       "4      92195  67.12     B    frequently      sometimes       never"
      ]
     },
     "execution_count": 3,
     "metadata": {},
     "output_type": "execute_result"
    }
   ],
   "source": [
    "train.head()"
   ]
  },
  {
   "cell_type": "code",
   "execution_count": 4,
   "metadata": {},
   "outputs": [
    {
     "data": {
      "text/html": [
       "<div>\n",
       "<style scoped>\n",
       "    .dataframe tbody tr th:only-of-type {\n",
       "        vertical-align: middle;\n",
       "    }\n",
       "\n",
       "    .dataframe tbody tr th {\n",
       "        vertical-align: top;\n",
       "    }\n",
       "\n",
       "    .dataframe thead th {\n",
       "        text-align: right;\n",
       "    }\n",
       "</style>\n",
       "<table border=\"1\" class=\"dataframe\">\n",
       "  <thead>\n",
       "    <tr style=\"text-align: right;\">\n",
       "      <th></th>\n",
       "      <th>STUDENTID</th>\n",
       "      <th>SCORE</th>\n",
       "      <th>GRADE</th>\n",
       "      <th>ON_SMARTPHONE</th>\n",
       "      <th>ASKS_QUESTIONS</th>\n",
       "      <th>LEAVES_EARLY</th>\n",
       "      <th>LATE_IN_CLASS</th>\n",
       "    </tr>\n",
       "  </thead>\n",
       "  <tbody>\n",
       "    <tr>\n",
       "      <th>0</th>\n",
       "      <td>201410019</td>\n",
       "      <td>23.98</td>\n",
       "      <td>D</td>\n",
       "      <td>never</td>\n",
       "      <td>sometimes</td>\n",
       "      <td>never</td>\n",
       "      <td>Never</td>\n",
       "    </tr>\n",
       "    <tr>\n",
       "      <th>1</th>\n",
       "      <td>201410022</td>\n",
       "      <td>55.42</td>\n",
       "      <td>D</td>\n",
       "      <td>never</td>\n",
       "      <td>always</td>\n",
       "      <td>always</td>\n",
       "      <td>Never</td>\n",
       "    </tr>\n",
       "    <tr>\n",
       "      <th>2</th>\n",
       "      <td>201410639</td>\n",
       "      <td>52.24</td>\n",
       "      <td>D</td>\n",
       "      <td>rarely</td>\n",
       "      <td>sometimes</td>\n",
       "      <td>rarely</td>\n",
       "      <td>Sometimes</td>\n",
       "    </tr>\n",
       "    <tr>\n",
       "      <th>3</th>\n",
       "      <td>201410704</td>\n",
       "      <td>91.88</td>\n",
       "      <td>D</td>\n",
       "      <td>never</td>\n",
       "      <td>always</td>\n",
       "      <td>always</td>\n",
       "      <td>Yes</td>\n",
       "    </tr>\n",
       "    <tr>\n",
       "      <th>4</th>\n",
       "      <td>201410864</td>\n",
       "      <td>3.25</td>\n",
       "      <td>D</td>\n",
       "      <td>never</td>\n",
       "      <td>never</td>\n",
       "      <td>rarely</td>\n",
       "      <td>Yes</td>\n",
       "    </tr>\n",
       "  </tbody>\n",
       "</table>\n",
       "</div>"
      ],
      "text/plain": [
       "   STUDENTID  SCORE GRADE ON_SMARTPHONE ASKS_QUESTIONS LEAVES_EARLY  \\\n",
       "0  201410019  23.98     D         never      sometimes        never   \n",
       "1  201410022  55.42     D         never         always       always   \n",
       "2  201410639  52.24     D        rarely      sometimes       rarely   \n",
       "3  201410704  91.88     D         never         always       always   \n",
       "4  201410864   3.25     D         never          never       rarely   \n",
       "\n",
       "  LATE_IN_CLASS  \n",
       "0         Never  \n",
       "1         Never  \n",
       "2     Sometimes  \n",
       "3           Yes  \n",
       "4           Yes  "
      ]
     },
     "execution_count": 4,
     "metadata": {},
     "output_type": "execute_result"
    }
   ],
   "source": [
    "test.head()"
   ]
  },
  {
   "cell_type": "code",
   "execution_count": 5,
   "metadata": {},
   "outputs": [
    {
     "data": {
      "text/plain": [
       "(998, 6)"
      ]
     },
     "execution_count": 5,
     "metadata": {},
     "output_type": "execute_result"
    }
   ],
   "source": [
    "train.shape"
   ]
  },
  {
   "cell_type": "code",
   "execution_count": 6,
   "metadata": {},
   "outputs": [
    {
     "data": {
      "text/plain": [
       "(581, 7)"
      ]
     },
     "execution_count": 6,
     "metadata": {},
     "output_type": "execute_result"
    }
   ],
   "source": [
    "test.shape"
   ]
  },
  {
   "cell_type": "code",
   "execution_count": 7,
   "metadata": {},
   "outputs": [
    {
     "data": {
      "text/html": [
       "<div>\n",
       "<style scoped>\n",
       "    .dataframe tbody tr th:only-of-type {\n",
       "        vertical-align: middle;\n",
       "    }\n",
       "\n",
       "    .dataframe tbody tr th {\n",
       "        vertical-align: top;\n",
       "    }\n",
       "\n",
       "    .dataframe thead th {\n",
       "        text-align: right;\n",
       "    }\n",
       "</style>\n",
       "<table border=\"1\" class=\"dataframe\">\n",
       "  <thead>\n",
       "    <tr style=\"text-align: right;\">\n",
       "      <th></th>\n",
       "      <th>STUDENTID</th>\n",
       "      <th>SCORE</th>\n",
       "    </tr>\n",
       "  </thead>\n",
       "  <tbody>\n",
       "    <tr>\n",
       "      <th>count</th>\n",
       "      <td>998.000000</td>\n",
       "      <td>998.000000</td>\n",
       "    </tr>\n",
       "    <tr>\n",
       "      <th>mean</th>\n",
       "      <td>55303.726453</td>\n",
       "      <td>49.749399</td>\n",
       "    </tr>\n",
       "    <tr>\n",
       "      <th>std</th>\n",
       "      <td>26025.913708</td>\n",
       "      <td>24.046353</td>\n",
       "    </tr>\n",
       "    <tr>\n",
       "      <th>min</th>\n",
       "      <td>10045.000000</td>\n",
       "      <td>1.120000</td>\n",
       "    </tr>\n",
       "    <tr>\n",
       "      <th>25%</th>\n",
       "      <td>32285.750000</td>\n",
       "      <td>31.872500</td>\n",
       "    </tr>\n",
       "    <tr>\n",
       "      <th>50%</th>\n",
       "      <td>54218.000000</td>\n",
       "      <td>48.935000</td>\n",
       "    </tr>\n",
       "    <tr>\n",
       "      <th>75%</th>\n",
       "      <td>78515.500000</td>\n",
       "      <td>68.117500</td>\n",
       "    </tr>\n",
       "    <tr>\n",
       "      <th>max</th>\n",
       "      <td>99865.000000</td>\n",
       "      <td>98.970000</td>\n",
       "    </tr>\n",
       "  </tbody>\n",
       "</table>\n",
       "</div>"
      ],
      "text/plain": [
       "          STUDENTID       SCORE\n",
       "count    998.000000  998.000000\n",
       "mean   55303.726453   49.749399\n",
       "std    26025.913708   24.046353\n",
       "min    10045.000000    1.120000\n",
       "25%    32285.750000   31.872500\n",
       "50%    54218.000000   48.935000\n",
       "75%    78515.500000   68.117500\n",
       "max    99865.000000   98.970000"
      ]
     },
     "execution_count": 7,
     "metadata": {},
     "output_type": "execute_result"
    }
   ],
   "source": [
    "train.describe()"
   ]
  },
  {
   "cell_type": "code",
   "execution_count": 8,
   "metadata": {},
   "outputs": [
    {
     "data": {
      "text/html": [
       "<div>\n",
       "<style scoped>\n",
       "    .dataframe tbody tr th:only-of-type {\n",
       "        vertical-align: middle;\n",
       "    }\n",
       "\n",
       "    .dataframe tbody tr th {\n",
       "        vertical-align: top;\n",
       "    }\n",
       "\n",
       "    .dataframe thead th {\n",
       "        text-align: right;\n",
       "    }\n",
       "</style>\n",
       "<table border=\"1\" class=\"dataframe\">\n",
       "  <thead>\n",
       "    <tr style=\"text-align: right;\">\n",
       "      <th></th>\n",
       "      <th>STUDENTID</th>\n",
       "      <th>SCORE</th>\n",
       "    </tr>\n",
       "  </thead>\n",
       "  <tbody>\n",
       "    <tr>\n",
       "      <th>count</th>\n",
       "      <td>5.810000e+02</td>\n",
       "      <td>581.000000</td>\n",
       "    </tr>\n",
       "    <tr>\n",
       "      <th>mean</th>\n",
       "      <td>2.014542e+08</td>\n",
       "      <td>51.208675</td>\n",
       "    </tr>\n",
       "    <tr>\n",
       "      <th>std</th>\n",
       "      <td>2.639119e+04</td>\n",
       "      <td>24.583434</td>\n",
       "    </tr>\n",
       "    <tr>\n",
       "      <th>min</th>\n",
       "      <td>2.014100e+08</td>\n",
       "      <td>1.800000</td>\n",
       "    </tr>\n",
       "    <tr>\n",
       "      <th>25%</th>\n",
       "      <td>2.014308e+08</td>\n",
       "      <td>32.600000</td>\n",
       "    </tr>\n",
       "    <tr>\n",
       "      <th>50%</th>\n",
       "      <td>2.014539e+08</td>\n",
       "      <td>52.720000</td>\n",
       "    </tr>\n",
       "    <tr>\n",
       "      <th>75%</th>\n",
       "      <td>2.014758e+08</td>\n",
       "      <td>68.330000</td>\n",
       "    </tr>\n",
       "    <tr>\n",
       "      <th>max</th>\n",
       "      <td>2.014999e+08</td>\n",
       "      <td>98.580000</td>\n",
       "    </tr>\n",
       "  </tbody>\n",
       "</table>\n",
       "</div>"
      ],
      "text/plain": [
       "          STUDENTID       SCORE\n",
       "count  5.810000e+02  581.000000\n",
       "mean   2.014542e+08   51.208675\n",
       "std    2.639119e+04   24.583434\n",
       "min    2.014100e+08    1.800000\n",
       "25%    2.014308e+08   32.600000\n",
       "50%    2.014539e+08   52.720000\n",
       "75%    2.014758e+08   68.330000\n",
       "max    2.014999e+08   98.580000"
      ]
     },
     "execution_count": 8,
     "metadata": {},
     "output_type": "execute_result"
    }
   ],
   "source": [
    "test.describe()"
   ]
  },
  {
   "cell_type": "code",
   "execution_count": 9,
   "metadata": {},
   "outputs": [
    {
     "name": "stdout",
     "output_type": "stream",
     "text": [
      "<class 'pandas.core.frame.DataFrame'>\n",
      "RangeIndex: 998 entries, 0 to 997\n",
      "Data columns (total 6 columns):\n",
      "STUDENTID         998 non-null int64\n",
      "SCORE             998 non-null float64\n",
      "GRADE             998 non-null object\n",
      "ASKSQUESTIONS     998 non-null object\n",
      "TEXTINGINCLASS    998 non-null object\n",
      "LATEINCLASS       998 non-null object\n",
      "dtypes: float64(1), int64(1), object(4)\n",
      "memory usage: 46.9+ KB\n"
     ]
    }
   ],
   "source": [
    "train.info()"
   ]
  },
  {
   "cell_type": "code",
   "execution_count": 10,
   "metadata": {},
   "outputs": [
    {
     "name": "stdout",
     "output_type": "stream",
     "text": [
      "<class 'pandas.core.frame.DataFrame'>\n",
      "RangeIndex: 581 entries, 0 to 580\n",
      "Data columns (total 7 columns):\n",
      "STUDENTID         581 non-null int64\n",
      "SCORE             581 non-null float64\n",
      "GRADE             581 non-null object\n",
      "ON_SMARTPHONE     581 non-null object\n",
      "ASKS_QUESTIONS    581 non-null object\n",
      "LEAVES_EARLY      581 non-null object\n",
      "LATE_IN_CLASS     581 non-null object\n",
      "dtypes: float64(1), int64(1), object(5)\n",
      "memory usage: 31.9+ KB\n"
     ]
    }
   ],
   "source": [
    "test.info()"
   ]
  },
  {
   "cell_type": "code",
   "execution_count": 11,
   "metadata": {},
   "outputs": [
    {
     "data": {
      "text/plain": [
       "STUDENTID         0\n",
       "SCORE             0\n",
       "GRADE             0\n",
       "ASKSQUESTIONS     0\n",
       "TEXTINGINCLASS    0\n",
       "LATEINCLASS       0\n",
       "dtype: int64"
      ]
     },
     "execution_count": 11,
     "metadata": {},
     "output_type": "execute_result"
    }
   ],
   "source": [
    "#chicking missing values\n",
    "train.isnull().sum()"
   ]
  },
  {
   "cell_type": "code",
   "execution_count": 12,
   "metadata": {},
   "outputs": [
    {
     "data": {
      "text/plain": [
       "STUDENTID         0\n",
       "SCORE             0\n",
       "GRADE             0\n",
       "ON_SMARTPHONE     0\n",
       "ASKS_QUESTIONS    0\n",
       "LEAVES_EARLY      0\n",
       "LATE_IN_CLASS     0\n",
       "dtype: int64"
      ]
     },
     "execution_count": 12,
     "metadata": {},
     "output_type": "execute_result"
    }
   ],
   "source": [
    "test.isnull().sum()"
   ]
  },
  {
   "cell_type": "code",
   "execution_count": 13,
   "metadata": {},
   "outputs": [
    {
     "data": {
      "text/plain": [
       "array(['STUDENTID', 'SCORE', 'GRADE', 'ASKSQUESTIONS', 'TEXTINGINCLASS',\n",
       "       'LATEINCLASS'], dtype=object)"
      ]
     },
     "execution_count": 13,
     "metadata": {},
     "output_type": "execute_result"
    }
   ],
   "source": [
    "train.columns.values"
   ]
  },
  {
   "cell_type": "code",
   "execution_count": 14,
   "metadata": {},
   "outputs": [
    {
     "data": {
      "text/plain": [
       "array(['STUDENTID', 'SCORE', 'GRADE', 'ON_SMARTPHONE', 'ASKS_QUESTIONS',\n",
       "       'LEAVES_EARLY', 'LATE_IN_CLASS'], dtype=object)"
      ]
     },
     "execution_count": 14,
     "metadata": {},
     "output_type": "execute_result"
    }
   ],
   "source": [
    "test.columns.values"
   ]
  },
  {
   "cell_type": "code",
   "execution_count": 15,
   "metadata": {},
   "outputs": [
    {
     "data": {
      "text/plain": [
       "array(['D', 'F', 'C', 'A', 'B'], dtype=object)"
      ]
     },
     "execution_count": 15,
     "metadata": {},
     "output_type": "execute_result"
    }
   ],
   "source": [
    "train.GRADE.unique()"
   ]
  },
  {
   "cell_type": "code",
   "execution_count": 16,
   "metadata": {},
   "outputs": [
    {
     "data": {
      "text/plain": [
       "C    373\n",
       "D    194\n",
       "B    193\n",
       "F    154\n",
       "A     84\n",
       "Name: GRADE, dtype: int64"
      ]
     },
     "execution_count": 16,
     "metadata": {},
     "output_type": "execute_result"
    }
   ],
   "source": [
    "train.GRADE.value_counts()"
   ]
  },
  {
   "cell_type": "code",
   "execution_count": 17,
   "metadata": {},
   "outputs": [
    {
     "data": {
      "text/plain": [
       "array(['never', 'frequently', 'rarely'], dtype=object)"
      ]
     },
     "execution_count": 17,
     "metadata": {},
     "output_type": "execute_result"
    }
   ],
   "source": [
    "train.ASKSQUESTIONS.unique()"
   ]
  },
  {
   "cell_type": "code",
   "execution_count": 18,
   "metadata": {},
   "outputs": [
    {
     "data": {
      "text/plain": [
       "never         749\n",
       "frequently    133\n",
       "rarely        116\n",
       "Name: ASKSQUESTIONS, dtype: int64"
      ]
     },
     "execution_count": 18,
     "metadata": {},
     "output_type": "execute_result"
    }
   ],
   "source": [
    "train.ASKSQUESTIONS.value_counts()"
   ]
  },
  {
   "cell_type": "code",
   "execution_count": 19,
   "metadata": {},
   "outputs": [
    {
     "data": {
      "text/plain": [
       "array(['always', 'never', 'sometimes'], dtype=object)"
      ]
     },
     "execution_count": 19,
     "metadata": {},
     "output_type": "execute_result"
    }
   ],
   "source": [
    "train.TEXTINGINCLASS.unique()"
   ]
  },
  {
   "cell_type": "code",
   "execution_count": 20,
   "metadata": {},
   "outputs": [
    {
     "data": {
      "text/plain": [
       "always       375\n",
       "sometimes    331\n",
       "never        292\n",
       "Name: TEXTINGINCLASS, dtype: int64"
      ]
     },
     "execution_count": 20,
     "metadata": {},
     "output_type": "execute_result"
    }
   ],
   "source": [
    "train.TEXTINGINCLASS.value_counts()"
   ]
  },
  {
   "cell_type": "code",
   "execution_count": 21,
   "metadata": {},
   "outputs": [
    {
     "data": {
      "text/plain": [
       "array(['never', 'rarely', 'always'], dtype=object)"
      ]
     },
     "execution_count": 21,
     "metadata": {},
     "output_type": "execute_result"
    }
   ],
   "source": [
    "train.LATEINCLASS.unique()"
   ]
  },
  {
   "cell_type": "code",
   "execution_count": 22,
   "metadata": {},
   "outputs": [
    {
     "data": {
      "text/plain": [
       "never     342\n",
       "always    340\n",
       "rarely    316\n",
       "Name: LATEINCLASS, dtype: int64"
      ]
     },
     "execution_count": 22,
     "metadata": {},
     "output_type": "execute_result"
    }
   ],
   "source": [
    "train.LATEINCLASS.value_counts()"
   ]
  },
  {
   "cell_type": "code",
   "execution_count": 23,
   "metadata": {},
   "outputs": [
    {
     "data": {
      "text/plain": [
       "array(['D'], dtype=object)"
      ]
     },
     "execution_count": 23,
     "metadata": {},
     "output_type": "execute_result"
    }
   ],
   "source": [
    "test.GRADE.unique()"
   ]
  },
  {
   "cell_type": "code",
   "execution_count": 24,
   "metadata": {},
   "outputs": [
    {
     "data": {
      "text/plain": [
       "D    581\n",
       "Name: GRADE, dtype: int64"
      ]
     },
     "execution_count": 24,
     "metadata": {},
     "output_type": "execute_result"
    }
   ],
   "source": [
    "test.GRADE.value_counts()"
   ]
  },
  {
   "cell_type": "code",
   "execution_count": 25,
   "metadata": {},
   "outputs": [
    {
     "data": {
      "text/plain": [
       "array(['never', 'rarely', 'frequently'], dtype=object)"
      ]
     },
     "execution_count": 25,
     "metadata": {},
     "output_type": "execute_result"
    }
   ],
   "source": [
    "test.ON_SMARTPHONE.unique()"
   ]
  },
  {
   "cell_type": "code",
   "execution_count": 26,
   "metadata": {},
   "outputs": [
    {
     "data": {
      "text/plain": [
       "never         424\n",
       "frequently     80\n",
       "rarely         77\n",
       "Name: ON_SMARTPHONE, dtype: int64"
      ]
     },
     "execution_count": 26,
     "metadata": {},
     "output_type": "execute_result"
    }
   ],
   "source": [
    "test.ON_SMARTPHONE.value_counts()"
   ]
  },
  {
   "cell_type": "code",
   "execution_count": 27,
   "metadata": {},
   "outputs": [
    {
     "data": {
      "text/plain": [
       "array(['sometimes', 'always', 'never'], dtype=object)"
      ]
     },
     "execution_count": 27,
     "metadata": {},
     "output_type": "execute_result"
    }
   ],
   "source": [
    "test.ASKS_QUESTIONS.unique()"
   ]
  },
  {
   "cell_type": "code",
   "execution_count": 28,
   "metadata": {},
   "outputs": [
    {
     "data": {
      "text/plain": [
       "never        197\n",
       "always       194\n",
       "sometimes    190\n",
       "Name: ASKS_QUESTIONS, dtype: int64"
      ]
     },
     "execution_count": 28,
     "metadata": {},
     "output_type": "execute_result"
    }
   ],
   "source": [
    "test.ASKS_QUESTIONS.value_counts()"
   ]
  },
  {
   "cell_type": "code",
   "execution_count": 29,
   "metadata": {},
   "outputs": [
    {
     "data": {
      "text/plain": [
       "array(['never', 'always', 'rarely'], dtype=object)"
      ]
     },
     "execution_count": 29,
     "metadata": {},
     "output_type": "execute_result"
    }
   ],
   "source": [
    "test.LEAVES_EARLY.unique()"
   ]
  },
  {
   "cell_type": "code",
   "execution_count": 30,
   "metadata": {},
   "outputs": [
    {
     "data": {
      "text/plain": [
       "always    199\n",
       "never     192\n",
       "rarely    190\n",
       "Name: LEAVES_EARLY, dtype: int64"
      ]
     },
     "execution_count": 30,
     "metadata": {},
     "output_type": "execute_result"
    }
   ],
   "source": [
    "test.LEAVES_EARLY.value_counts()"
   ]
  },
  {
   "cell_type": "code",
   "execution_count": 31,
   "metadata": {},
   "outputs": [
    {
     "data": {
      "text/plain": [
       "array(['Never', 'Sometimes', 'Yes'], dtype=object)"
      ]
     },
     "execution_count": 31,
     "metadata": {},
     "output_type": "execute_result"
    }
   ],
   "source": [
    "test.LATE_IN_CLASS.unique()"
   ]
  },
  {
   "cell_type": "code",
   "execution_count": 32,
   "metadata": {},
   "outputs": [
    {
     "data": {
      "text/plain": [
       "Sometimes    203\n",
       "Never        196\n",
       "Yes          182\n",
       "Name: LATE_IN_CLASS, dtype: int64"
      ]
     },
     "execution_count": 32,
     "metadata": {},
     "output_type": "execute_result"
    }
   ],
   "source": [
    "test.LATE_IN_CLASS.value_counts()"
   ]
  },
  {
   "cell_type": "markdown",
   "metadata": {},
   "source": [
    "# plotting "
   ]
  },
  {
   "cell_type": "code",
   "execution_count": 33,
   "metadata": {},
   "outputs": [
    {
     "data": {
      "image/png": "[encoded data removed]",
      "text/plain": [
       "<matplotlib.figure.Figure at 0x19bfcbafc88>"
      ]
     },
     "metadata": {},
     "output_type": "display_data"
    }
   ],
   "source": [
    "train['SCORE'].hist(bins = 20)\n",
    "plt.show()"
   ]
  },
  {
   "cell_type": "code",
   "execution_count": 34,
   "metadata": {},
   "outputs": [
    {
     "data": {
      "image/png": "[encoded data removed]",
      "text/plain": [
       "<matplotlib.figure.Figure at 0x19bfcbdf860>"
      ]
     },
     "metadata": {},
     "output_type": "display_data"
    }
   ],
   "source": [
    "test['SCORE'].hist(bins = 20)\n",
    "plt.show()"
   ]
  },
  {
   "cell_type": "code",
   "execution_count": 35,
   "metadata": {},
   "outputs": [
    {
     "data": {
      "image/png": "[encoded data removed]",
      "text/plain": [
       "<matplotlib.figure.Figure at 0x19bfcfd4390>"
      ]
     },
     "metadata": {},
     "output_type": "display_data"
    }
   ],
   "source": [
    "train['GRADE'].hist(bins = 20)\n",
    "plt.show()"
   ]
  },
  {
   "cell_type": "code",
   "execution_count": 36,
   "metadata": {},
   "outputs": [
    {
     "data": {
      "image/png": "[encoded data removed]",
      "text/plain": [
       "<matplotlib.figure.Figure at 0x19bfd006be0>"
      ]
     },
     "metadata": {},
     "output_type": "display_data"
    }
   ],
   "source": [
    "test['GRADE'].hist(bins = 20)\n",
    "plt.show()"
   ]
  },
  {
   "cell_type": "code",
   "execution_count": 37,
   "metadata": {},
   "outputs": [
    {
     "data": {
      "image/png": "[encoded data removed]",
      "text/plain": [
       "<matplotlib.figure.Figure at 0x19bfd0991d0>"
      ]
     },
     "metadata": {},
     "output_type": "display_data"
    }
   ],
   "source": [
    "train.boxplot(column = 'SCORE', by = 'GRADE')\n",
    "plt.show()"
   ]
  },
  {
   "cell_type": "code",
   "execution_count": 38,
   "metadata": {},
   "outputs": [
    {
     "data": {
      "text/plain": [
       "Text(0.5,0,'grade')"
      ]
     },
     "execution_count": 38,
     "metadata": {},
     "output_type": "execute_result"
    },
    {
     "data": {
      "image/png": "[encoded data removed]",
      "text/plain": [
       "<matplotlib.figure.Figure at 0x19bfd0fae10>"
      ]
     },
     "metadata": {},
     "output_type": "display_data"
    }
   ],
   "source": [
    "y1 = train['SCORE']\n",
    "x1 = train['GRADE']\n",
    "plt.bar(x1,y1)\n",
    "plt.ylabel('score')\n",
    "plt.xlabel('grade')"
   ]
  },
  {
   "cell_type": "raw",
   "metadata": {},
   "source": [
    "Since, sklearn requires all inputs to be numeric, we should convert all our categorical variables into numeric by encoding the categories. This can be done using the following code"
   ]
  },
  {
   "cell_type": "code",
   "execution_count": 39,
   "metadata": {},
   "outputs": [],
   "source": [
    "#from sklearn.preprocessing import LabelEncoder\n",
    "#var_mod = ['GRADE','ASKSQUESTIONS', 'TEXTINGINCLASS','LATEINCLASS']\n",
    "#le = LabelEncoder()\n",
    "#for i in var_mod:\n",
    " #   train[i] = le.fit_transform(train[i])\n",
    "\n",
    "#train.dtypes"
   ]
  },
  {
   "cell_type": "code",
   "execution_count": 41,
   "metadata": {},
   "outputs": [],
   "source": [
    "train = train.drop(['ASKSQUESTIONS','TEXTINGINCLASS','LATEINCLASS'],axis = 1)"
   ]
  },
  {
   "cell_type": "code",
   "execution_count": 42,
   "metadata": {},
   "outputs": [
    {
     "data": {
      "text/html": [
       "<div>\n",
       "<style scoped>\n",
       "    .dataframe tbody tr th:only-of-type {\n",
       "        vertical-align: middle;\n",
       "    }\n",
       "\n",
       "    .dataframe tbody tr th {\n",
       "        vertical-align: top;\n",
       "    }\n",
       "\n",
       "    .dataframe thead th {\n",
       "        text-align: right;\n",
       "    }\n",
       "</style>\n",
       "<table border=\"1\" class=\"dataframe\">\n",
       "  <thead>\n",
       "    <tr style=\"text-align: right;\">\n",
       "      <th></th>\n",
       "      <th>STUDENTID</th>\n",
       "      <th>SCORE</th>\n",
       "      <th>GRADE</th>\n",
       "    </tr>\n",
       "  </thead>\n",
       "  <tbody>\n",
       "    <tr>\n",
       "      <th>0</th>\n",
       "      <td>65446</td>\n",
       "      <td>23.67</td>\n",
       "      <td>D</td>\n",
       "    </tr>\n",
       "    <tr>\n",
       "      <th>1</th>\n",
       "      <td>79686</td>\n",
       "      <td>8.41</td>\n",
       "      <td>F</td>\n",
       "    </tr>\n",
       "    <tr>\n",
       "      <th>2</th>\n",
       "      <td>56400</td>\n",
       "      <td>69.76</td>\n",
       "      <td>C</td>\n",
       "    </tr>\n",
       "    <tr>\n",
       "      <th>3</th>\n",
       "      <td>16792</td>\n",
       "      <td>95.51</td>\n",
       "      <td>A</td>\n",
       "    </tr>\n",
       "    <tr>\n",
       "      <th>4</th>\n",
       "      <td>92195</td>\n",
       "      <td>67.12</td>\n",
       "      <td>B</td>\n",
       "    </tr>\n",
       "  </tbody>\n",
       "</table>\n",
       "</div>"
      ],
      "text/plain": [
       "   STUDENTID  SCORE GRADE\n",
       "0      65446  23.67     D\n",
       "1      79686   8.41     F\n",
       "2      56400  69.76     C\n",
       "3      16792  95.51     A\n",
       "4      92195  67.12     B"
      ]
     },
     "execution_count": 42,
     "metadata": {},
     "output_type": "execute_result"
    }
   ],
   "source": [
    "train.head()"
   ]
  },
  {
   "cell_type": "code",
   "execution_count": 43,
   "metadata": {},
   "outputs": [],
   "source": [
    "#from sklearn.preprocessing import LabelEncoder\n",
    "#var_mod = [ 'ON_SMARTPHONE', 'ASKS_QUESTIONS','LEAVES_EARLY', 'LATE_IN_CLASS']\n",
    "#le = LabelEncoder()\n",
    "#for i in var_mod:\n",
    "#    test[i] = le.fit_transform(test[i])\n",
    "\n",
    "#test.dtypes"
   ]
  },
  {
   "cell_type": "code",
   "execution_count": 44,
   "metadata": {},
   "outputs": [],
   "source": [
    "test = test.drop(['ON_SMARTPHONE','ASKS_QUESTIONS','LEAVES_EARLY','LATE_IN_CLASS'],axis = 1)"
   ]
  },
  {
   "cell_type": "code",
   "execution_count": 45,
   "metadata": {},
   "outputs": [
    {
     "data": {
      "text/html": [
       "<div>\n",
       "<style scoped>\n",
       "    .dataframe tbody tr th:only-of-type {\n",
       "        vertical-align: middle;\n",
       "    }\n",
       "\n",
       "    .dataframe tbody tr th {\n",
       "        vertical-align: top;\n",
       "    }\n",
       "\n",
       "    .dataframe thead th {\n",
       "        text-align: right;\n",
       "    }\n",
       "</style>\n",
       "<table border=\"1\" class=\"dataframe\">\n",
       "  <thead>\n",
       "    <tr style=\"text-align: right;\">\n",
       "      <th></th>\n",
       "      <th>STUDENTID</th>\n",
       "      <th>SCORE</th>\n",
       "      <th>GRADE</th>\n",
       "    </tr>\n",
       "  </thead>\n",
       "  <tbody>\n",
       "    <tr>\n",
       "      <th>0</th>\n",
       "      <td>201410019</td>\n",
       "      <td>23.98</td>\n",
       "      <td>D</td>\n",
       "    </tr>\n",
       "    <tr>\n",
       "      <th>1</th>\n",
       "      <td>201410022</td>\n",
       "      <td>55.42</td>\n",
       "      <td>D</td>\n",
       "    </tr>\n",
       "    <tr>\n",
       "      <th>2</th>\n",
       "      <td>201410639</td>\n",
       "      <td>52.24</td>\n",
       "      <td>D</td>\n",
       "    </tr>\n",
       "    <tr>\n",
       "      <th>3</th>\n",
       "      <td>201410704</td>\n",
       "      <td>91.88</td>\n",
       "      <td>D</td>\n",
       "    </tr>\n",
       "    <tr>\n",
       "      <th>4</th>\n",
       "      <td>201410864</td>\n",
       "      <td>3.25</td>\n",
       "      <td>D</td>\n",
       "    </tr>\n",
       "  </tbody>\n",
       "</table>\n",
       "</div>"
      ],
      "text/plain": [
       "   STUDENTID  SCORE GRADE\n",
       "0  201410019  23.98     D\n",
       "1  201410022  55.42     D\n",
       "2  201410639  52.24     D\n",
       "3  201410704  91.88     D\n",
       "4  201410864   3.25     D"
      ]
     },
     "execution_count": 45,
     "metadata": {},
     "output_type": "execute_result"
    }
   ],
   "source": [
    "test.head()"
   ]
  },
  {
   "cell_type": "code",
   "execution_count": 46,
   "metadata": {},
   "outputs": [],
   "source": [
    "X = train.drop(['GRADE'],axis = 1)\n",
    "y = train.GRADE"
   ]
  },
  {
   "cell_type": "code",
   "execution_count": 47,
   "metadata": {},
   "outputs": [
    {
     "data": {
      "text/plain": [
       "(998, 2)"
      ]
     },
     "execution_count": 47,
     "metadata": {},
     "output_type": "execute_result"
    }
   ],
   "source": [
    "X.shape"
   ]
  },
  {
   "cell_type": "code",
   "execution_count": 48,
   "metadata": {},
   "outputs": [
    {
     "data": {
      "text/plain": [
       "(998,)"
      ]
     },
     "execution_count": 48,
     "metadata": {},
     "output_type": "execute_result"
    }
   ],
   "source": [
    "y.shape"
   ]
  },
  {
   "cell_type": "code",
   "execution_count": 49,
   "metadata": {},
   "outputs": [
    {
     "data": {
      "text/plain": [
       "RandomForestClassifier(bootstrap=True, class_weight=None, criterion='gini',\n",
       "            max_depth=None, max_features='auto', max_leaf_nodes=None,\n",
       "            min_impurity_decrease=0.0, min_impurity_split=None,\n",
       "            min_samples_leaf=1, min_samples_split=2,\n",
       "            min_weight_fraction_leaf=0.0, n_estimators=100, n_jobs=1,\n",
       "            oob_score=False, random_state=None, verbose=0,\n",
       "            warm_start=False)"
      ]
     },
     "execution_count": 49,
     "metadata": {},
     "output_type": "execute_result"
    }
   ],
   "source": [
    "from sklearn.ensemble import RandomForestClassifier\n",
    "clf = RandomForestClassifier(n_estimators = 100)\n",
    "clf.fit(X,y)"
   ]
  },
  {
   "cell_type": "code",
   "execution_count": 52,
   "metadata": {},
   "outputs": [
    {
     "data": {
      "text/html": [
       "<div>\n",
       "<style scoped>\n",
       "    .dataframe tbody tr th:only-of-type {\n",
       "        vertical-align: middle;\n",
       "    }\n",
       "\n",
       "    .dataframe tbody tr th {\n",
       "        vertical-align: top;\n",
       "    }\n",
       "\n",
       "    .dataframe thead th {\n",
       "        text-align: right;\n",
       "    }\n",
       "</style>\n",
       "<table border=\"1\" class=\"dataframe\">\n",
       "  <thead>\n",
       "    <tr style=\"text-align: right;\">\n",
       "      <th></th>\n",
       "      <th>STUDENTID</th>\n",
       "      <th>SCORE</th>\n",
       "    </tr>\n",
       "  </thead>\n",
       "  <tbody>\n",
       "    <tr>\n",
       "      <th>0</th>\n",
       "      <td>201410019</td>\n",
       "      <td>23.98</td>\n",
       "    </tr>\n",
       "    <tr>\n",
       "      <th>1</th>\n",
       "      <td>201410022</td>\n",
       "      <td>55.42</td>\n",
       "    </tr>\n",
       "    <tr>\n",
       "      <th>2</th>\n",
       "      <td>201410639</td>\n",
       "      <td>52.24</td>\n",
       "    </tr>\n",
       "    <tr>\n",
       "      <th>3</th>\n",
       "      <td>201410704</td>\n",
       "      <td>91.88</td>\n",
       "    </tr>\n",
       "    <tr>\n",
       "      <th>4</th>\n",
       "      <td>201410864</td>\n",
       "      <td>3.25</td>\n",
       "    </tr>\n",
       "  </tbody>\n",
       "</table>\n",
       "</div>"
      ],
      "text/plain": [
       "   STUDENTID  SCORE\n",
       "0  201410019  23.98\n",
       "1  201410022  55.42\n",
       "2  201410639  52.24\n",
       "3  201410704  91.88\n",
       "4  201410864   3.25"
      ]
     },
     "execution_count": 52,
     "metadata": {},
     "output_type": "execute_result"
    }
   ],
   "source": [
    "test = test.drop(['GRADE'],axis = 1)\n",
    "test.head()"
   ]
  },
  {
   "cell_type": "code",
   "execution_count": 53,
   "metadata": {},
   "outputs": [
    {
     "data": {
      "text/plain": [
       "(581, 2)"
      ]
     },
     "execution_count": 53,
     "metadata": {},
     "output_type": "execute_result"
    }
   ],
   "source": [
    "test.shape"
   ]
  },
  {
   "cell_type": "code",
   "execution_count": 54,
   "metadata": {},
   "outputs": [],
   "source": [
    "predicted = clf.predict(test)"
   ]
  },
  {
   "cell_type": "code",
   "execution_count": 55,
   "metadata": {},
   "outputs": [
    {
     "name": "stdout",
     "output_type": "stream",
     "text": [
      "['D' 'C' 'C' 'A' 'F' 'C' 'B' 'C' 'C' 'F' 'B' 'A' 'A' 'C' 'C' 'C' 'C' 'C'\n",
      " 'F' 'C' 'B' 'C' 'F' 'D' 'C' 'B' 'C' 'C' 'A' 'C' 'C' 'F' 'B' 'D' 'C' 'D'\n",
      " 'F' 'F' 'F' 'B' 'C' 'C' 'F' 'B' 'C' 'C' 'C' 'C' 'F' 'F' 'F' 'C' 'F' 'B'\n",
      " 'C' 'F' 'F' 'C' 'C' 'F' 'D' 'A' 'F' 'B' 'D' 'B' 'C' 'C' 'B' 'C' 'C' 'B'\n",
      " 'F' 'F' 'C' 'A' 'C' 'D' 'A' 'F' 'C' 'B' 'F' 'C' 'F' 'C' 'F' 'C' 'F' 'C'\n",
      " 'C' 'B' 'C' 'B' 'C' 'B' 'C' 'D' 'C' 'F' 'A' 'C' 'C' 'C' 'C' 'C' 'D' 'B'\n",
      " 'F' 'B' 'C' 'A' 'A' 'A' 'C' 'F' 'B' 'C' 'F' 'F' 'C' 'C' 'B' 'C' 'C' 'B'\n",
      " 'C' 'B' 'C' 'D' 'F' 'F' 'C' 'F' 'B' 'B' 'B' 'C' 'F' 'D' 'C' 'F' 'C' 'F'\n",
      " 'A' 'F' 'C' 'F' 'B' 'A' 'C' 'C' 'A' 'B' 'D' 'F' 'C' 'C' 'C' 'C' 'F' 'C'\n",
      " 'F' 'C' 'B' 'C' 'B' 'C' 'F' 'F' 'D' 'B' 'C' 'C' 'F' 'A' 'A' 'C' 'D' 'C'\n",
      " 'B' 'B' 'A' 'A' 'F' 'C' 'C' 'C' 'F' 'F' 'F' 'B' 'B' 'C' 'F' 'A' 'C' 'F'\n",
      " 'A' 'C' 'C' 'F' 'B' 'C' 'B' 'C' 'C' 'B' 'F' 'D' 'C' 'C' 'C' 'C' 'C' 'C'\n",
      " 'F' 'C' 'C' 'A' 'C' 'B' 'F' 'C' 'C' 'D' 'C' 'C' 'B' 'F' 'C' 'C' 'F' 'C'\n",
      " 'A' 'C' 'C' 'F' 'C' 'D' 'A' 'A' 'B' 'C' 'C' 'C' 'A' 'C' 'C' 'C' 'A' 'C'\n",
      " 'C' 'C' 'F' 'C' 'B' 'F' 'C' 'B' 'C' 'D' 'B' 'C' 'B' 'B' 'B' 'B' 'F' 'C'\n",
      " 'D' 'B' 'C' 'F' 'C' 'A' 'F' 'C' 'C' 'B' 'C' 'C' 'B' 'D' 'C' 'C' 'C' 'F'\n",
      " 'F' 'D' 'C' 'C' 'C' 'D' 'B' 'F' 'C' 'C' 'C' 'C' 'F' 'F' 'F' 'C' 'A' 'F'\n",
      " 'C' 'A' 'A' 'F' 'D' 'F' 'B' 'C' 'C' 'B' 'C' 'D' 'D' 'F' 'C' 'F' 'C' 'F'\n",
      " 'F' 'F' 'C' 'A' 'D' 'C' 'C' 'D' 'C' 'C' 'F' 'C' 'C' 'C' 'B' 'B' 'C' 'C'\n",
      " 'B' 'C' 'C' 'C' 'C' 'C' 'C' 'F' 'C' 'C' 'C' 'B' 'F' 'C' 'C' 'C' 'B' 'C'\n",
      " 'C' 'C' 'A' 'C' 'C' 'B' 'C' 'B' 'D' 'C' 'A' 'B' 'B' 'B' 'C' 'F' 'C' 'C'\n",
      " 'A' 'C' 'C' 'D' 'C' 'B' 'C' 'C' 'A' 'D' 'D' 'A' 'C' 'C' 'C' 'C' 'F' 'D'\n",
      " 'B' 'C' 'C' 'A' 'C' 'C' 'A' 'B' 'F' 'C' 'C' 'A' 'B' 'F' 'C' 'C' 'C' 'C'\n",
      " 'C' 'B' 'C' 'C' 'A' 'C' 'A' 'F' 'B' 'C' 'A' 'D' 'D' 'F' 'B' 'C' 'D' 'F'\n",
      " 'D' 'A' 'F' 'D' 'B' 'C' 'D' 'F' 'F' 'D' 'F' 'C' 'A' 'B' 'F' 'C' 'B' 'D'\n",
      " 'B' 'A' 'C' 'A' 'C' 'B' 'B' 'C' 'C' 'A' 'C' 'F' 'B' 'C' 'F' 'C' 'A' 'C'\n",
      " 'A' 'B' 'C' 'C' 'C' 'D' 'B' 'A' 'C' 'C' 'C' 'C' 'C' 'F' 'A' 'C' 'A' 'C'\n",
      " 'C' 'C' 'C' 'C' 'C' 'C' 'A' 'A' 'F' 'A' 'A' 'F' 'F' 'B' 'B' 'B' 'C' 'F'\n",
      " 'C' 'C' 'F' 'C' 'F' 'B' 'C' 'F' 'C' 'F' 'F' 'C' 'B' 'C' 'C' 'B' 'C' 'C'\n",
      " 'B' 'C' 'F' 'C' 'D' 'F' 'A' 'C' 'A' 'C' 'D' 'D' 'B' 'B' 'F' 'B' 'C' 'C'\n",
      " 'C' 'C' 'A' 'A' 'B' 'F' 'B' 'C' 'B' 'C' 'C' 'C' 'F' 'B' 'C' 'A' 'B' 'F'\n",
      " 'C' 'C' 'C' 'D' 'F' 'C' 'C' 'C' 'D' 'C' 'C' 'D' 'C' 'C' 'A' 'C' 'C' 'A'\n",
      " 'D' 'C' 'C' 'C' 'C']\n"
     ]
    }
   ],
   "source": [
    "print(predicted)"
   ]
  },
  {
   "cell_type": "code",
   "execution_count": 56,
   "metadata": {},
   "outputs": [],
   "source": [
    "#for dataset in predicted:\n",
    " #   dataset['GRADE'] = dataset['GRADE'].map({0:'A',1:'B',2:'C',3:'D',4:'F'})(predicted)\n",
    "   "
   ]
  },
  {
   "cell_type": "code",
   "execution_count": 57,
   "metadata": {},
   "outputs": [
    {
     "data": {
      "text/plain": [
       "(581,)"
      ]
     },
     "execution_count": 57,
     "metadata": {},
     "output_type": "execute_result"
    }
   ],
   "source": [
    "predicted.shape"
   ]
  },
  {
   "cell_type": "code",
   "execution_count": 75,
   "metadata": {},
   "outputs": [
    {
     "data": {
      "text/html": [
       "<div>\n",
       "<style scoped>\n",
       "    .dataframe tbody tr th:only-of-type {\n",
       "        vertical-align: middle;\n",
       "    }\n",
       "\n",
       "    .dataframe tbody tr th {\n",
       "        vertical-align: top;\n",
       "    }\n",
       "\n",
       "    .dataframe thead th {\n",
       "        text-align: right;\n",
       "    }\n",
       "</style>\n",
       "<table border=\"1\" class=\"dataframe\">\n",
       "  <thead>\n",
       "    <tr style=\"text-align: right;\">\n",
       "      <th></th>\n",
       "      <th>GRADE</th>\n",
       "      <th>STUDENTID</th>\n",
       "    </tr>\n",
       "  </thead>\n",
       "  <tbody>\n",
       "    <tr>\n",
       "      <th>0</th>\n",
       "      <td>D</td>\n",
       "      <td>201410019</td>\n",
       "    </tr>\n",
       "    <tr>\n",
       "      <th>1</th>\n",
       "      <td>C</td>\n",
       "      <td>201410022</td>\n",
       "    </tr>\n",
       "    <tr>\n",
       "      <th>2</th>\n",
       "      <td>C</td>\n",
       "      <td>201410639</td>\n",
       "    </tr>\n",
       "    <tr>\n",
       "      <th>3</th>\n",
       "      <td>A</td>\n",
       "      <td>201410704</td>\n",
       "    </tr>\n",
       "    <tr>\n",
       "      <th>4</th>\n",
       "      <td>F</td>\n",
       "      <td>201410864</td>\n",
       "    </tr>\n",
       "  </tbody>\n",
       "</table>\n",
       "</div>"
      ],
      "text/plain": [
       "  GRADE  STUDENTID\n",
       "0     D  201410019\n",
       "1     C  201410022\n",
       "2     C  201410639\n",
       "3     A  201410704\n",
       "4     F  201410864"
      ]
     },
     "execution_count": 75,
     "metadata": {},
     "output_type": "execute_result"
    }
   ],
   "source": [
    "output = pd.DataFrame(predicted,columns = ['GRADE'])\n",
    "#output.reset_index(inplace= True)\n",
    "#output['index'] = output['index'] + 1\n",
    "test = pd.read_csv(r'F:\\Desktop\\ds\\moody_testing_data.csv')\n",
    "output['STUDENTID'] = test['STUDENTID']\n",
    "\n",
    "#output.rename(columns={'index': 'STUDENTID'}, inplace=True)\n",
    "output[['STUDENTID','GRADE']].to_csv('submission_file.csv', index = False)\n",
    "output.head()\n"
   ]
  },
  {
   "cell_type": "code",
   "execution_count": 76,
   "metadata": {},
   "outputs": [
    {
     "data": {
      "text/plain": [
       "(581, 2)"
      ]
     },
     "execution_count": 76,
     "metadata": {},
     "output_type": "execute_result"
    }
   ],
   "source": [
    "output.shape"
   ]
  },
  {
   "cell_type": "code",
   "execution_count": null,
   "metadata": {},
   "outputs": [],
   "source": []
  }
 ],
 "metadata": {
  "kernelspec": {
   "display_name": "Python 3",
   "language": "python",
   "name": "python3"
  },
  "language_info": {
   "codemirror_mode": {
    "name": "ipython",
    "version": 3
   },
   "file_extension": ".py",
   "mimetype": "text/x-python",
   "name": "python",
   "nbconvert_exporter": "python",
   "pygments_lexer": "ipython3",
   "version": "3.6.4"
  }
 },
 "nbformat": 4,
 "nbformat_minor": 2
}
